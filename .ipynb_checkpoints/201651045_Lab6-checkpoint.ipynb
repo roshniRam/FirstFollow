{
 "cells": [
  {
   "cell_type": "code",
   "execution_count": 2,
   "metadata": {},
   "outputs": [],
   "source": [
    "t = [\"+\",\"-\",\"*\",\"/\",\"#\",\"id\",\"num\",\"(\",\")\"]\n",
    "nt = [\"E\",\"E'\",\"T\",\"T'\",\"F\"]\n",
    "grammar = {\n",
    "\"E\":[(\"T\",\"E'\")],\n",
    "\"E'\":[(\"+\",\"T\",\"E'\"),(\"-\",\"T\",\"E'\"),(\"#\",)],\n",
    "\"T\":[(\"F\",\"T'\")],\n",
    "\"T'\":[(\"*\",\"F\",\"T'\"),(\"/\",\"F\",\"T'\"),(\"#\",)],\n",
    "\"F\":[(\"(\",\"E\",\")\"),(\"id\",),(\"num\",)]\n",
    "}"
   ]
  },
  {
   "cell_type": "code",
   "execution_count": 1,
   "metadata": {},
   "outputs": [
    {
     "name": "stdout",
     "output_type": "stream",
     "text": [
      "Enter the number of production rules5\n"
     ]
    }
   ],
   "source": [
    "n = int(input(\"Enter the number of production rules\"))"
   ]
  },
  {
   "cell_type": "code",
   "execution_count": null,
   "metadata": {},
   "outputs": [],
   "source": [
    "for _ in range(n):\n",
    "    "
   ]
  },
  {
   "cell_type": "code",
   "execution_count": 3,
   "metadata": {},
   "outputs": [],
   "source": [
    "def isTerminal(s):\n",
    "    return s in t"
   ]
  },
  {
   "cell_type": "code",
   "execution_count": 4,
   "metadata": {},
   "outputs": [],
   "source": [
    "def isNonTerminal(s):\n",
    "    return s in nt\n"
   ]
  },
  {
   "cell_type": "code",
   "execution_count": 5,
   "metadata": {},
   "outputs": [],
   "source": [
    "def findSymbol(s):\n",
    "    results = {}\n",
    "    for nont in grammar:\n",
    "        for production in grammar[nont]:\n",
    "            for symbol in production:\n",
    "                if s in production:\n",
    "                    try:\n",
    "                        results[nont]+=[production]\n",
    "                    except KeyError:\n",
    "                        results[nont]=[production]\n",
    "    return results"
   ]
  },
  {
   "cell_type": "code",
   "execution_count": 6,
   "metadata": {},
   "outputs": [],
   "source": [
    "def first(s):\n",
    "    firsts = []\n",
    "    for production in grammar[s]:\n",
    "        if(isTerminal(production[0])):\n",
    "            firsts.append(production[0])\n",
    "        elif(isNonTerminal(production[0])):\n",
    "            firsts+=first(production[0])\n",
    "    return firsts"
   ]
  },
  {
   "cell_type": "code",
   "execution_count": 7,
   "metadata": {},
   "outputs": [],
   "source": [
    "def follow(s):\n",
    "    follows = []\n",
    "    if s == next(iter(grammar)):\n",
    "        follows.append(\"$\")\n",
    "    found = findSymbol(s)\n",
    "    for nont in found:\n",
    "        for production in found[nont]:\n",
    "            if(production.index(s) < len(production)-1):\n",
    "                nxt = production[production.index(s)+1]\n",
    "                if(isTerminal(nxt)):\n",
    "                    follows.append(nxt)\n",
    "                elif(isNonTerminal(nxt)):\n",
    "                    nxt = first(nxt)\n",
    "                    if(\"ε\" in nxt):\n",
    "                        nxt += follow(nont)\n",
    "                    follows+= nxt\n",
    "            else:\n",
    "                if(s != nont):\n",
    "                    follows = follow(nont)\n",
    "    follows = list(set(follows))\n",
    "    if(\"ε\" in follows):\n",
    "        follows.remove(\"ε\")\n",
    "    return follows"
   ]
  },
  {
   "cell_type": "code",
   "execution_count": 8,
   "metadata": {},
   "outputs": [
    {
     "ename": "NameError",
     "evalue": "name 'firsts_dict' is not defined",
     "output_type": "error",
     "traceback": [
      "\u001b[0;31m---------------------------------------------------------------------------\u001b[0m",
      "\u001b[0;31mNameError\u001b[0m                                 Traceback (most recent call last)",
      "\u001b[0;32m<ipython-input-8-af753221ad4c>\u001b[0m in \u001b[0;36m<module>\u001b[0;34m\u001b[0m\n\u001b[1;32m      1\u001b[0m \u001b[0;32mwith\u001b[0m \u001b[0mopen\u001b[0m\u001b[0;34m(\u001b[0m\u001b[0;34m\"firsts.txt\"\u001b[0m\u001b[0;34m,\u001b[0m \u001b[0;34m\"w+\"\u001b[0m\u001b[0;34m)\u001b[0m \u001b[0;32mas\u001b[0m \u001b[0mwp\u001b[0m\u001b[0;34m:\u001b[0m\u001b[0;34m\u001b[0m\u001b[0;34m\u001b[0m\u001b[0m\n\u001b[0;32m----> 2\u001b[0;31m     \u001b[0;32mfor\u001b[0m \u001b[0mk\u001b[0m \u001b[0;32min\u001b[0m \u001b[0mfirsts_dict\u001b[0m\u001b[0;34m:\u001b[0m\u001b[0;34m\u001b[0m\u001b[0;34m\u001b[0m\u001b[0m\n\u001b[0m\u001b[1;32m      3\u001b[0m         \u001b[0mwp\u001b[0m\u001b[0;34m.\u001b[0m\u001b[0mwrite\u001b[0m\u001b[0;34m(\u001b[0m\u001b[0;34m\"first(%s): \\t \"\u001b[0m \u001b[0;34m%\u001b[0m \u001b[0mk\u001b[0m\u001b[0;34m)\u001b[0m\u001b[0;34m\u001b[0m\u001b[0;34m\u001b[0m\u001b[0m\n\u001b[1;32m      4\u001b[0m         \u001b[0mwp\u001b[0m\u001b[0;34m.\u001b[0m\u001b[0mwrite\u001b[0m\u001b[0;34m(\u001b[0m\u001b[0;34m\"%s\\n\"\u001b[0m \u001b[0;34m%\u001b[0m \u001b[0mfirsts_dict\u001b[0m\u001b[0;34m[\u001b[0m\u001b[0mk\u001b[0m\u001b[0;34m]\u001b[0m\u001b[0;34m)\u001b[0m\u001b[0;34m\u001b[0m\u001b[0;34m\u001b[0m\u001b[0m\n",
      "\u001b[0;31mNameError\u001b[0m: name 'firsts_dict' is not defined"
     ]
    }
   ],
   "source": [
    "with open(\"firsts.txt\", \"w+\") as wp:\n",
    "    for k in firsts_dict:\n",
    "        wp.write(\"first(%s): \\t \" % k)\n",
    "        wp.write(\"%s\\n\" % firsts_dict[k])"
   ]
  },
  {
   "cell_type": "code",
   "execution_count": 9,
   "metadata": {},
   "outputs": [],
   "source": [
    "def printGrammar():\n",
    "    for rule in grammar:#Por regla\n",
    "        str_rule = rule + \" -> \"\n",
    "        for production in grammar[rule]:#Por produccion del no terminal\n",
    "            for symbol in production:#Por simbolo en la produccion\n",
    "                str_rule+=symbol\n",
    "            str_rule+=\"|\"\n",
    "        str_rule = str_rule[:-1]\n",
    "        print(str_rule)"
   ]
  },
  {
   "cell_type": "code",
   "execution_count": 10,
   "metadata": {},
   "outputs": [],
   "source": [
    "\n",
    "def printFirsts():\n",
    "    print(\"First:\")\n",
    "    for nont in nt:\n",
    "        print(first(nont))"
   ]
  },
  {
   "cell_type": "code",
   "execution_count": 11,
   "metadata": {},
   "outputs": [],
   "source": [
    "def printFollows():\n",
    "    print(\"Follows:\")\n",
    "    for nont in nt:\n",
    "        print(follow(nont))"
   ]
  },
  {
   "cell_type": "code",
   "execution_count": 12,
   "metadata": {},
   "outputs": [
    {
     "name": "stdout",
     "output_type": "stream",
     "text": [
      "E -> TE'\n",
      "E' -> +TE'|-TE'|#\n",
      "T -> FT'\n",
      "T' -> *FT'|/FT'|#\n",
      "F -> (E)|id|num\n",
      "\n",
      "\n",
      "First:\n",
      "['(', 'id', 'num']\n",
      "['+', '-', '#']\n",
      "['(', 'id', 'num']\n",
      "['*', '/', '#']\n",
      "['(', 'id', 'num']\n",
      "Follows:\n",
      "[')', '$']\n",
      "[')', '$']\n",
      "['+', '#', '-']\n",
      "['+', '#', '-']\n",
      "['*', '#', '/']\n"
     ]
    }
   ],
   "source": [
    "printGrammar()\n",
    "print(\"\\n\")\n",
    "printFirsts()\n",
    "printFollows()"
   ]
  },
  {
   "cell_type": "code",
   "execution_count": null,
   "metadata": {},
   "outputs": [],
   "source": []
  }
 ],
 "metadata": {
  "kernelspec": {
   "display_name": "Python 3",
   "language": "python",
   "name": "python3"
  },
  "language_info": {
   "codemirror_mode": {
    "name": "ipython",
    "version": 3
   },
   "file_extension": ".py",
   "mimetype": "text/x-python",
   "name": "python",
   "nbconvert_exporter": "python",
   "pygments_lexer": "ipython3",
   "version": "3.6.8"
  }
 },
 "nbformat": 4,
 "nbformat_minor": 2
}

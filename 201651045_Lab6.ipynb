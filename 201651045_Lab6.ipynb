{
 "cells": [
  {
   "cell_type": "markdown",
   "metadata": {},
   "source": [
    "## Lab 6\n",
    "## Roshni Ram\n",
    "## 201651045\n",
    "## Implement the calculation of first and follow for any given grammar. Take grammar as user input."
   ]
  },
  {
   "cell_type": "code",
   "execution_count": 1,
   "metadata": {},
   "outputs": [
    {
     "name": "stdout",
     "output_type": "stream",
     "text": [
      "Enter the number of production rules3\n"
     ]
    }
   ],
   "source": [
    "n = int(input(\"Enter the number of production rules\"))"
   ]
  },
  {
   "cell_type": "code",
   "execution_count": 2,
   "metadata": {},
   "outputs": [
    {
     "name": "stdout",
     "output_type": "stream",
     "text": [
      "E:E+T|T\n",
      "T:T*F|F\n",
      "F:(E)|id\n"
     ]
    }
   ],
   "source": [
    "productions = []\n",
    "for _ in range(n):\n",
    "    productions.append(input())"
   ]
  },
  {
   "cell_type": "markdown",
   "metadata": {},
   "source": [
    "### Remove left recursion"
   ]
  },
  {
   "cell_type": "code",
   "execution_count": 3,
   "metadata": {},
   "outputs": [
    {
     "data": {
      "text/plain": [
       "[[\"E':+TE'\", \"E':#\", \"E:TE'\"], [\"T':*FT'\", \"T':#\", \"T:FT'\"], 'F:(E)|id']"
      ]
     },
     "execution_count": 3,
     "metadata": {},
     "output_type": "execute_result"
    }
   ],
   "source": [
    "rules = []\n",
    "some = {}\n",
    "terminals = set()\n",
    "for i in productions:\n",
    "    rule = []\n",
    "    flag = False\n",
    "    sub_flag = False\n",
    "    g = i.split(\":\")\n",
    "    right = g[1].split(\"|\")\n",
    "    for k in right:\n",
    "        sub = []\n",
    "        if k[0]==g[0]:\n",
    "            some[k[0]] = \"\"\n",
    "            flag = True\n",
    "            rule.append(g[0]+\"\\'\"+\":\"+k[1:]+g[0]+\"\\'\")\n",
    "            some[g[0] + \"'\"] = \"\"\n",
    "    if flag:\n",
    "        rule.append(g[0]+\"\\'\"+\":#\")\n",
    "        for m in right:\n",
    "            if m[0]!=g[0]:\n",
    "                sub_flag = True\n",
    "                rule.append(g[0]+\":\"+m+g[0]+\"\\'\")\n",
    "    if not sub_flag:\n",
    "        rule.append(g[0]+\":\"+g[0]+\"\\'\")\n",
    "    if not flag:\n",
    "        some[i[0]] = \"\"\n",
    "        rules.append(i)\n",
    "    if flag:\n",
    "        rules.append(rule)\n",
    "\n",
    "rules"
   ]
  },
  {
   "cell_type": "code",
   "execution_count": 4,
   "metadata": {},
   "outputs": [
    {
     "data": {
      "text/plain": [
       "{'E': '', \"E'\": '', 'T': '', \"T'\": '', 'F': ''}"
      ]
     },
     "execution_count": 4,
     "metadata": {},
     "output_type": "execute_result"
    }
   ],
   "source": [
    "some\n"
   ]
  },
  {
   "cell_type": "code",
   "execution_count": 5,
   "metadata": {},
   "outputs": [],
   "source": [
    "gram = set()\n",
    "for rule in rules:\n",
    "    if (isinstance(rule, list)):\n",
    "        for i in range(len(rule)):\n",
    "            startLetter = (rule[i].split(':'))[0]\n",
    "            indices = [];\n",
    "            for i in range(len(rule)):\n",
    "                x = (rule[i].split(':'))[0]\n",
    "                if(x == startLetter):\n",
    "                    indices.append(i)\n",
    "            a = rule[indices[0]]\n",
    "            for k in range(1,len(indices)):\n",
    "                a =a + \"|\" + rule[indices[k]][3:]\n",
    "            gram.add(a)\n",
    "    else:\n",
    "        gram.add(str(rule))"
   ]
  },
  {
   "cell_type": "code",
   "execution_count": 6,
   "metadata": {},
   "outputs": [],
   "source": [
    "gram = list(gram)\n",
    "for prod in gram:\n",
    "    if prod[1] == \"'\":\n",
    "        some[prod[0:2]] = [prod[3:]]\n",
    "    else:\n",
    "        some[prod[0:1]] = [prod[2:]]"
   ]
  },
  {
   "cell_type": "code",
   "execution_count": 7,
   "metadata": {},
   "outputs": [],
   "source": [
    "for key, value in some.items():\n",
    "    b = \"\".join(value).split('|')\n",
    "    valueList = []\n",
    "    for i in range(len(b)):\n",
    "        x = b[i]\n",
    "        val = ()\n",
    "        for j in range(len(x)):\n",
    "            if x[j].islower():\n",
    "                val = val + (x,)\n",
    "                break\n",
    "            elif(j+1<len(x) and x[j+1] == \"'\"):\n",
    "                val = val + ((x[j] + x[j+1]),)\n",
    "                break\n",
    "            else:\n",
    "                val += (x[j],)\n",
    "        for var in val:\n",
    "            if(not var[0].isupper()):\n",
    "                terminals.add(var)\n",
    "        valueList.append(val)\n",
    "    some[key] = valueList"
   ]
  },
  {
   "cell_type": "code",
   "execution_count": 8,
   "metadata": {},
   "outputs": [],
   "source": [
    "grammar = some\n",
    "terminals = list(terminals)"
   ]
  },
  {
   "cell_type": "code",
   "execution_count": 9,
   "metadata": {},
   "outputs": [],
   "source": [
    "nonterminals = []\n",
    "for key,values in grammar.items():\n",
    "    nonterminals.append(key)"
   ]
  },
  {
   "cell_type": "code",
   "execution_count": 10,
   "metadata": {},
   "outputs": [],
   "source": [
    "def isTerminal(s):\n",
    "    return s in terminals"
   ]
  },
  {
   "cell_type": "code",
   "execution_count": 11,
   "metadata": {},
   "outputs": [],
   "source": [
    "def isNonTerminal(s):\n",
    "    return s in nonterminals\n"
   ]
  },
  {
   "cell_type": "code",
   "execution_count": 12,
   "metadata": {},
   "outputs": [],
   "source": [
    "def findSymbol(s):\n",
    "    results = {}\n",
    "    for nont in grammar:\n",
    "        for production in grammar[nont]:\n",
    "            for symbol in production:\n",
    "                if s in production:\n",
    "                    try:\n",
    "                        results[nont]+=[production]\n",
    "                    except KeyError:\n",
    "                        results[nont]=[production]\n",
    "    return results"
   ]
  },
  {
   "cell_type": "code",
   "execution_count": 13,
   "metadata": {},
   "outputs": [],
   "source": [
    "def first(s):\n",
    "    firsts = []\n",
    "    for production in grammar[s]:\n",
    "        if(isTerminal(production[0])):\n",
    "            firsts.append(production[0])\n",
    "        elif(isNonTerminal(production[0])):\n",
    "            firsts+=first(production[0])\n",
    "    return firsts"
   ]
  },
  {
   "cell_type": "code",
   "execution_count": 14,
   "metadata": {},
   "outputs": [],
   "source": [
    "def follow(s):\n",
    "    follows = []\n",
    "    if s == next(iter(grammar)):\n",
    "        follows.append(\"$\")\n",
    "    found = findSymbol(s)\n",
    "    for nont in found:\n",
    "        for production in found[nont]:\n",
    "            if(production.index(s) < len(production)-1):\n",
    "                nxt = production[production.index(s)+1]\n",
    "                if(isTerminal(nxt)):\n",
    "                    follows.append(nxt)\n",
    "                elif(isNonTerminal(nxt)):\n",
    "                    nxt = first(nxt)\n",
    "                    if(\"#\" in nxt):\n",
    "                        nxt += follow(nont)\n",
    "                    follows+= nxt\n",
    "            else:\n",
    "                if(s != nont):\n",
    "                    follows = follow(nont)\n",
    "    follows = list(set(follows))\n",
    "    if(\"#\" in follows):\n",
    "        follows.remove(\"#\")\n",
    "    return follows"
   ]
  },
  {
   "cell_type": "code",
   "execution_count": 18,
   "metadata": {},
   "outputs": [],
   "source": [
    "def printGrammar():\n",
    "    for rule in grammar:\n",
    "        str_rule = rule + \" -> \"\n",
    "        for production in grammar[rule]:\n",
    "            for symbol in production:\n",
    "                str_rule+=symbol\n",
    "            str_rule+=\"|\"\n",
    "        str_rule = str_rule[:-1]\n",
    "        print(str_rule)"
   ]
  },
  {
   "cell_type": "code",
   "execution_count": 19,
   "metadata": {},
   "outputs": [],
   "source": [
    "\n",
    "def printFirsts():\n",
    "    print(\"First:\")\n",
    "    for nont in nonterminals:\n",
    "        print(first(nont))"
   ]
  },
  {
   "cell_type": "code",
   "execution_count": 20,
   "metadata": {},
   "outputs": [],
   "source": [
    "def printFollows():\n",
    "    print(\"Follows:\")\n",
    "    for nont in nonterminals:\n",
    "        print(follow(nont))"
   ]
  },
  {
   "cell_type": "code",
   "execution_count": 21,
   "metadata": {},
   "outputs": [
    {
     "name": "stdout",
     "output_type": "stream",
     "text": [
      "E -> TE'\n",
      "E' -> +TE'|#\n",
      "T -> FT'\n",
      "T' -> *FT'|#\n",
      "F -> (E)|id\n",
      "\n",
      "\n",
      "First:\n",
      "['(', 'id']\n",
      "['+', '#']\n",
      "['(', 'id']\n",
      "['*', '#']\n",
      "['(', 'id']\n",
      "Follows:\n",
      "[')', '$']\n",
      "[')', '$']\n",
      "[')', '+', '$']\n",
      "[')', '+', '$']\n",
      "[')', '*', '+', '$']\n"
     ]
    }
   ],
   "source": [
    "printGrammar()\n",
    "print(\"\\n\")\n",
    "printFirsts()\n",
    "printFollows()"
   ]
  },
  {
   "cell_type": "code",
   "execution_count": null,
   "metadata": {},
   "outputs": [],
   "source": []
  }
 ],
 "metadata": {
  "kernelspec": {
   "display_name": "Python 3",
   "language": "python",
   "name": "python3"
  },
  "language_info": {
   "codemirror_mode": {
    "name": "ipython",
    "version": 3
   },
   "file_extension": ".py",
   "mimetype": "text/x-python",
   "name": "python",
   "nbconvert_exporter": "python",
   "pygments_lexer": "ipython3",
   "version": "3.6.8"
  }
 },
 "nbformat": 4,
 "nbformat_minor": 2
}

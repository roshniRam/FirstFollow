{
 "cells": [
  {
   "cell_type": "code",
   "execution_count": 94,
   "metadata": {},
   "outputs": [],
   "source": [
    "t = [\"+\",\"-\",\"*\",\"/\",\"ε\",\"id\",\"num\",\"(\",\")\"]\n",
    "nt = [\"E\",\"E'\",\"T\",\"T'\",\"F\"]\n",
    "grammar = {\n",
    "\"E\":[(\"T\",\"E'\")],\n",
    "\"E'\":[(\"+\",\"T\",\"E'\"),(\"-\",\"T\",\"E'\"),(\"ε\",)],\n",
    "\"T\":[(\"F\",\"T'\")],\n",
    "\"T'\":[(\"*\",\"F\",\"T'\"),(\"/\",\"F\",\"T'\"),(\"ε\",)],\n",
    "\"F\":[(\"(\",\"E\",\")\"),(\"id\",),(\"num\",)]\n",
    "}"
   ]
  },
  {
   "cell_type": "code",
   "execution_count": 95,
   "metadata": {},
   "outputs": [],
   "source": [
    "def isTerminal(s):\n",
    "    return s in t"
   ]
  },
  {
   "cell_type": "code",
   "execution_count": 96,
   "metadata": {},
   "outputs": [],
   "source": [
    "def isNonTerminal(s):\n",
    "    return s in nt\n"
   ]
  },
  {
   "cell_type": "code",
   "execution_count": 107,
   "metadata": {},
   "outputs": [],
   "source": [
    "def findSymbol(s):\n",
    "    results = {}\n",
    "    for nont in grammar:\n",
    "        for production in grammar[nont]:\n",
    "            for symbol in production:\n",
    "                if s in production:\n",
    "                    try:\n",
    "                        results[nont]+=[production]\n",
    "                    except KeyError:\n",
    "                        results[nont]=[production]\n",
    "    return results"
   ]
  },
  {
   "cell_type": "code",
   "execution_count": 108,
   "metadata": {},
   "outputs": [],
   "source": [
    "def first(s):\n",
    "    firsts = []\n",
    "    for production in grammar[s]:\n",
    "        if(isTerminal(production[0])):\n",
    "            firsts.append(production[0])\n",
    "        elif(isNonTerminal(production[0])):\n",
    "            firsts+=first(production[0])\n",
    "    return firsts"
   ]
  },
  {
   "cell_type": "code",
   "execution_count": 109,
   "metadata": {},
   "outputs": [],
   "source": [
    "def follow(s):\n",
    "    follows = []\n",
    "    if s == next(iter(grammar)):\n",
    "        follows.append(\"$\")\n",
    "    found = findSymbol(s)\n",
    "    for nont in found:\n",
    "        for production in found[nont]:\n",
    "            if(production.index(s) < len(production)-1):\n",
    "                nxt = production[production.index(s)+1]\n",
    "                if(isTerminal(nxt)):\n",
    "                    follows.append(nxt)\n",
    "                elif(isNonTerminal(nxt)):\n",
    "                    nxt = first(nxt)\n",
    "                    if(\"ε\" in nxt):\n",
    "                        nxt += follow(nont)\n",
    "                    follows+= nxt\n",
    "            else:\n",
    "                if(s != nont):\n",
    "                    follows = follow(nont)\n",
    "    follows = list(set(follows))\n",
    "    if(\"ε\" in follows):\n",
    "        follows.remove(\"ε\")\n",
    "    return follows"
   ]
  },
  {
   "cell_type": "code",
   "execution_count": 110,
   "metadata": {},
   "outputs": [],
   "source": [
    "with open(\"firsts.txt\", \"w+\") as wp:\n",
    "    for k in firsts_dict:\n",
    "        wp.write(\"first(%s): \\t \" % k)\n",
    "        wp.write(\"%s\\n\" % firsts_dict[k])"
   ]
  },
  {
   "cell_type": "code",
   "execution_count": 111,
   "metadata": {},
   "outputs": [],
   "source": [
    "def printGrammar():\n",
    "    for rule in grammar:#Por regla\n",
    "        str_rule = rule + \" -> \"\n",
    "        for production in grammar[rule]:#Por produccion del no terminal\n",
    "            for symbol in production:#Por simbolo en la produccion\n",
    "                str_rule+=symbol\n",
    "            str_rule+=\"|\"\n",
    "        str_rule = str_rule[:-1]\n",
    "        print(str_rule)"
   ]
  },
  {
   "cell_type": "code",
   "execution_count": 112,
   "metadata": {},
   "outputs": [],
   "source": [
    "\n",
    "def printFirsts():\n",
    "    print(\"First:\")\n",
    "    for nont in nt:\n",
    "        print(first(nont))"
   ]
  },
  {
   "cell_type": "code",
   "execution_count": 113,
   "metadata": {},
   "outputs": [],
   "source": [
    "def printFollows():\n",
    "    print(\"Follows:\")\n",
    "    for nont in nt:\n",
    "        print(follow(nont))"
   ]
  },
  {
   "cell_type": "code",
   "execution_count": 114,
   "metadata": {},
   "outputs": [
    {
     "name": "stdout",
     "output_type": "stream",
     "text": [
      "E -> TE'\n",
      "E' -> +TE'|-TE'|ε\n",
      "T -> FT'\n",
      "T' -> *FT'|/FT'|ε\n",
      "F -> (E)|id|num\n",
      "\n",
      "\n",
      "First:\n",
      "['(', 'id', 'num']\n",
      "['+', '-', 'ε']\n",
      "['(', 'id', 'num']\n",
      "['*', '/', 'ε']\n",
      "['(', 'id', 'num']\n",
      "Follows:\n",
      "['$', ')']\n",
      "['$', ')']\n",
      "['$', '+', '-', ')']\n",
      "['$', '+', ')', '-']\n",
      "['/', '$', '+', '-', ')', '*']\n"
     ]
    }
   ],
   "source": [
    "printGrammar()\n",
    "print(\"\\n\")\n",
    "printFirsts()\n",
    "printFollows()"
   ]
  },
  {
   "cell_type": "code",
   "execution_count": null,
   "metadata": {},
   "outputs": [],
   "source": []
  }
 ],
 "metadata": {
  "kernelspec": {
   "display_name": "Python 3",
   "language": "python",
   "name": "python3"
  },
  "language_info": {
   "codemirror_mode": {
    "name": "ipython",
    "version": 3
   },
   "file_extension": ".py",
   "mimetype": "text/x-python",
   "name": "python",
   "nbconvert_exporter": "python",
   "pygments_lexer": "ipython3",
   "version": "3.6.8"
  }
 },
 "nbformat": 4,
 "nbformat_minor": 2
}
